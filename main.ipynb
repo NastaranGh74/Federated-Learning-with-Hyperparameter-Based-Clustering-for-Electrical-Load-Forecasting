{
  "cells": [
    {
      "cell_type": "code",
      "execution_count": null,
      "metadata": {
        "colab": {
          "base_uri": "https://localhost:8080/"
        },
        "id": "uaBbO6SGUmex",
        "outputId": "9ebee925-c325-449d-bc62-0f5aa7c788d0"
      },
      "outputs": [
        {
          "name": "stdout",
          "output_type": "stream",
          "text": [
            "cpu is available.\n"
          ]
        }
      ],
      "source": [
        "import numpy as np\n",
        "import random\n",
        "import pandas as pd\n",
        "\n",
        "from sklearn.model_selection import train_test_split\n",
        "from sklearn.utils import shuffle\n",
        "from sklearn import preprocessing\n",
        "\n",
        "import torch\n",
        "import torch.nn as nn\n",
        "import torch.nn.functional as F\n",
        "import torchvision\n",
        "from torch.autograd import Variable  \n",
        "from tqdm import tqdm_notebook as tqdm\n",
        "from torch.utils.data import Dataset,DataLoader\n",
        "\n",
        "from pathlib import Path\n",
        "import matplotlib.pyplot as plt\n",
        "\n",
        "import sklearn\n",
        "\n",
        "device = \"cpu\"\n",
        "#device = \"cuda\" if torch.cuda.is_available() else \"cpu\"\n",
        "print(f\"{device}\" \" is available.\")"
      ]
    },
    {
      "cell_type": "markdown",
      "metadata": {
        "id": "Ei4aZbJiWySW"
      },
      "source": [
        "# Load Train data"
      ]
    },
    {
      "cell_type": "code",
      "execution_count": null,
      "metadata": {
        "id": "pgs21UiLWqRO"
      },
      "outputs": [],
      "source": [
        "def load(paths,initial='clients'):\n",
        "    \n",
        "    data = list()\n",
        "    labels = list()\n",
        "    \n",
        "    data_folder = Path(\"./Data/\")\n",
        "    \n",
        "    client_names = ['{}_{}'.format(initial, i+1) for i in range(len(paths))]\n",
        "    \n",
        "    total_clients={client_names[i] : [] for i in range(len(client_names))}\n",
        "    \n",
        "    # loop over the input\n",
        "    for j in range(len(paths)):\n",
        "        \n",
        "        # load the data\n",
        "        target = pd.read_csv(data_folder / paths[j], usecols=[2, 5],\n",
        "                             index_col=0, header=0)\n",
        "        target=target.loc[\"20200801\":\"20200830\"][:]\n",
        "        \n",
        "        target=target.to_numpy()\n",
        "\n",
        "        #sc = preprocessing.MinMaxScaler()\n",
        "        #target = sc.fit_transform(target)\n",
        "        #sc = preprocessing.StandardScaler().fit(target)\n",
        "        #target = sc.transform(target)\n",
        "        \n",
        "        #target=target.values.tolist()\n",
        "        \n",
        "        #total_clients[client_names[j]]=list(zip((Data, target)))\n",
        "        \n",
        "        total_clients[client_names[j]]=target\n",
        "        \n",
        "        #{client_names[i] : list(zip((Data, target)))}\n",
        "        \n",
        "        \n",
        "    return  total_clients"
      ]
    },
    {
      "cell_type": "markdown",
      "metadata": {
        "id": "aDmYXtkgWzyi"
      },
      "source": [
        "#Define load paths and load train data"
      ]
    },
    {
      "cell_type": "code",
      "execution_count": null,
      "metadata": {
        "id": "6K4XajMjWssQ"
      },
      "outputs": [],
      "source": [
        "#Cluster1\n",
        "#data_paths=['building_2_.csv','building_3_.csv','building_12_.csv','building_18_.csv','building_26_.csv','building_37_.csv','building_53_.csv',\n",
        "#            'building_68_.csv','building_54_.csv','building_78_.csv','building_16_.csv']\n",
        "\n",
        "\n",
        "#Cluster 2\n",
        "#data_paths=['building_1_.csv','building_7_.csv','building_9_.csv','building_10_.csv','building_11_.csv','building_44_.csv','building_48_.csv','building_56_.csv',\n",
        "#            'building_76_.csv']\n",
        "\n",
        "#Cluster 3\n",
        "#data_paths=['building_4_.csv','building_5_.csv','building_13_.csv','building_17_.csv','building_23_.csv','building_24_.csv','building_27_.csv','building_34_.csv',\n",
        "  #          'building_42_.csv','building_43_.csv','building_57_.csv','building_61_.csv','building_66_.csv','building_69_.csv','building_81_.csv']\n",
        "\n",
        "#Cluster 4\n",
        "data_paths=['building_19_.csv','building_22_.csv','building_25_.csv','building_29_.csv','building_30_.csv','building_32_.csv','building_35_.csv','building_36_.csv',\n",
        "            'building_38_.csv','building_41_.csv','building_62_.csv','building_63_.csv','building_64_.csv','building_65_.csv','building_71_.csv','building_72_.csv',\n",
        "            'building_73_.csv']\n",
        "\n",
        "clients=load(data_paths,initial='clients')\n"
      ]
    },
    {
      "cell_type": "code",
      "execution_count": null,
      "metadata": {
        "id": "KCr1qrDyRg13"
      },
      "outputs": [],
      "source": [
        "client_names = ['{}_{}'.format('clients', i+1) for i in range(len(data_paths))]\n",
        "aggregate_load=0\n",
        "\n",
        "for i in range(len(data_paths)):\n",
        "  aggregate_load+=clients[client_names[i]]"
      ]
    },
    {
      "cell_type": "code",
      "execution_count": null,
      "metadata": {
        "id": "dOhHQe7nqW1O"
      },
      "outputs": [],
      "source": [
        "def sliding_windows(data, aggregate_load, seq_length, pred_length):\n",
        "    x = []\n",
        "    y = []\n",
        "    x_aggregate=[]\n",
        "    y_aggregate=[]\n",
        "    \n",
        "    count=int(((len(data)-seq_length)/pred_length))\n",
        "\n",
        "    for i in range(count):\n",
        "        \n",
        "        _x = data[i*pred_length:(i*pred_length+seq_length)]\n",
        "        _y = data[i*pred_length+seq_length:i*pred_length+seq_length+pred_length]\n",
        "\n",
        "        aggregate_x=aggregate_load[i*pred_length:(i*pred_length+seq_length)]\n",
        "        aggregate_y=aggregate_load[i*pred_length+seq_length:i*pred_length+seq_length+pred_length]\n",
        "\n",
        "        x.append(_x)\n",
        "        y.append(_y)\n",
        "\n",
        "        x_aggregate.append(aggregate_x)\n",
        "        y_aggregate.append(aggregate_y)\n",
        "\n",
        "    return np.array(x),np.array(y),np.array(x_aggregate),np.array(y_aggregate)\n",
        "\n",
        "\n",
        "\n",
        "#process and batch the test data for each client\n",
        "\n",
        "client_names = ['{}_{}'.format('clients', i+1) for i in range(len(data_paths))]\n",
        "\n",
        "x=dict()\n",
        "y=dict()\n",
        "\n",
        "seq_length = 48\n",
        "pred_length = 24\n",
        "\n",
        "for i in range(len(data_paths)):\n",
        "    \n",
        "    x[client_names[i]], y[client_names[i]], x_aggregate, y_aggregate = sliding_windows(clients[client_names[i]], aggregate_load, seq_length, pred_length)\n",
        "    \n"
      ]
    },
    {
      "cell_type": "code",
      "execution_count": null,
      "metadata": {
        "id": "tVrXMEvQXuvL"
      },
      "outputs": [],
      "source": [
        "train_size = int(len(y[client_names[i]]) * 0.67)\n",
        "test_size = len(y[client_names[i]]) - train_size\n",
        "\n",
        "dataX = dict()\n",
        "dataY= dict()\n",
        "\n",
        "trainX= dict()\n",
        "trainY= dict()\n",
        "\n",
        "testX= dict()\n",
        "testY= dict()\n",
        "\n",
        "for i in range(len(data_paths)):\n",
        "    \n",
        "    dataX[client_names[i]] = Variable(torch.Tensor(np.array(x[client_names[i]]))).to(device)\n",
        "    dataY[client_names[i]] = Variable(torch.Tensor(np.array(y[client_names[i]]))).to(device)\n",
        "\n",
        "    trainX[client_names[i]] = Variable(torch.Tensor(np.array(x[client_names[i]][0:train_size]))).to(device)\n",
        "    trainY[client_names[i]] = Variable(torch.Tensor(np.array(y[client_names[i]][0:train_size]))).to(device)\n",
        "\n",
        "    testX[client_names[i]] = Variable(torch.Tensor(np.array(x[client_names[i]][train_size:len(x[client_names[i]])]))).to(device)\n",
        "    testY[client_names[i]] = Variable(torch.Tensor(np.array(y[client_names[i]][train_size:len(y[client_names[i]])]))).to(device)\n",
        "    \n",
        "    testY[client_names[i]] = testY[client_names[i]][:,:,0]\n",
        "    trainY[client_names[i]] = trainY[client_names[i]][:,:,0]\n",
        "\n",
        "\n",
        "\n",
        "\n",
        "trainX_aggregate = Variable(torch.Tensor(np.array(x_aggregate[0:train_size]))).to(device)\n",
        "trainY_aggregate = Variable(torch.Tensor(np.array(y_aggregate[0:train_size]))).to(device)\n",
        "\n",
        "testX_aggregate = Variable(torch.Tensor(np.array(x_aggregate[train_size:len(x[client_names[i]])]))).to(device)\n",
        "testY_aggregate = Variable(torch.Tensor(np.array(y_aggregate[train_size:len(y[client_names[i]])]))).to(device)\n",
        "\n",
        "testY_aggregate = testY_aggregate[:,:,0]\n",
        "trainY_aggregate = trainY_aggregate[:,:,0]"
      ]
    },
    {
      "cell_type": "markdown",
      "metadata": {
        "id": "gPEuGHB1XZ8c"
      },
      "source": [
        "# FedAvg Method"
      ]
    },
    {
      "cell_type": "code",
      "execution_count": null,
      "metadata": {
        "id": "Ic71RKCyXb_-"
      },
      "outputs": [],
      "source": [
        "def weight_scalling_factor(clients_trn_data, client_name):\n",
        "    client_names = list(clients_trn_data.keys())\n",
        "    \n",
        "    #first calculate the total training data points across clinets\n",
        "    global_count = sum([clients_trn_data[client_name2][0].shape[0] for client_name2 in client_names])\n",
        "    # get the total number of data points held by a client\n",
        "    local_count = clients_trn_data[client_name][0].shape[0]\n",
        "    return local_count/global_count\n",
        "\n",
        "\n",
        "def scale_model_weights(weight, scalar):\n",
        "    '''function for scaling a models weights'''\n",
        "    weight_final = scalar*weight\n",
        "    return weight_final\n",
        "\n",
        "\n",
        "\n",
        "def sum_scaled_weights(scaled_weight_list):\n",
        "    '''Return the sum of the listed scaled weights. The is equivalent to scaled avg of the weights'''\n",
        "    avg_grad=sum(scaled_weight_list)\n",
        "        \n",
        "    return avg_grad"
      ]
    },
    {
      "cell_type": "markdown",
      "metadata": {
        "id": "AsnYh44MXfF5"
      },
      "source": [
        "# Define the MLP Structure"
      ]
    },
    {
      "cell_type": "code",
      "execution_count": null,
      "metadata": {
        "id": "UeksZ5kzXgCL"
      },
      "outputs": [],
      "source": [
        "class Model(nn.Module):\n",
        "    def __init__(self, input_dim):\n",
        "        super(Model, self).__init__()\n",
        "        self.layer1 = nn.Linear(input_dim, 32)\n",
        "        self.layer2 = nn.Linear(32, 64)\n",
        "        self.layer3 = nn.Linear(64, 1)\n",
        "        \n",
        "    def forward(self, x):\n",
        "        x = F.relu(self.layer1(x))\n",
        "        x = F.relu(self.layer2(x))\n",
        "        x = self.layer3(x)\n",
        "        return x\n",
        "\n",
        "\n",
        "class LSTM(nn.Module):\n",
        "\n",
        "    def __init__(self, num_classes, input_size, hidden_size1, hidden_size2, num_layers):\n",
        "        super(LSTM, self).__init__()\n",
        "        \n",
        "        self.num_classes = num_classes\n",
        "        self.num_layers = num_layers\n",
        "        self.input_size = input_size\n",
        "        self.hidden_size1 = hidden_size1\n",
        "        self.hidden_size2 = hidden_size2\n",
        "        self.seq_length = seq_length\n",
        "        \n",
        "        self.lstm = nn.LSTM(input_size=input_size, hidden_size=hidden_size1,\n",
        "                            num_layers=num_layers, batch_first=True)\n",
        "        \n",
        "        self.fc1 = nn.Linear(hidden_size1, hidden_size2)\n",
        "        self.fc2 = nn.Linear(hidden_size2, num_classes)\n",
        "\n",
        "    def forward(self, x):\n",
        "        h_0 = Variable(torch.zeros(\n",
        "            self.num_layers, x.size(0), self.hidden_size1)).to(device)\n",
        "        \n",
        "        c_0 = Variable(torch.zeros(\n",
        "            self.num_layers, x.size(0), self.hidden_size1)).to(device)\n",
        "        \n",
        "        self.lstm.flatten_parameters()\n",
        "\n",
        "\n",
        "        \n",
        "        # Propagate input through LSTM\n",
        "        out, _ = self.lstm(x, (h_0, c_0))\n",
        "        out = out[:, -1, :]\n",
        "        #h_out = h_out.view(-1, self.hidden_size1)\n",
        "        \n",
        "        out = self.fc1(out)\n",
        "        out = self.fc2(out)\n",
        "        #out = torch.clip(out, 0)\n",
        "        \n",
        "        return out"
      ]
    },
    {
      "cell_type": "markdown",
      "metadata": {
        "id": "HtR3rBQ_BsFk"
      },
      "source": [
        "## Training Loop"
      ]
    },
    {
      "cell_type": "code",
      "execution_count": null,
      "metadata": {
        "id": "gghsfnsEXwJJ"
      },
      "outputs": [],
      "source": [
        "#initialize global model\n",
        "#smlp_global = SimpleMLP()\n",
        "input_size = 1\n",
        "hidden_size1 = 68\n",
        "hidden_size2 = 105\n",
        "num_layers = 1\n",
        "\n",
        "num_classes = 24\n",
        "\n",
        "outliers = []\n",
        "rounds_list = dict()\n",
        "local_model = dict()\n",
        "optimizer=dict()\n",
        "loss_clients=dict()\n",
        "every_round_loss=dict()\n",
        "total_mse=dict()\n",
        "\n",
        "for client in client_names:\n",
        "    local_model[client]=LSTM(num_classes, input_size, hidden_size1, hidden_size2, num_layers).to(device)\n",
        "    optimizer[client]= torch.optim.Adam(local_model[client].parameters(), lr=0.01)\n",
        "    loss_clients[client]=[]\n",
        "    every_round_loss[client]=[]\n",
        "    total_mse[client]=[]\n",
        "\n",
        "\n",
        "global_model = LSTM(num_classes, input_size, hidden_size1, hidden_size2, num_layers).to(device)\n",
        "optimizer2 = torch.optim.Adam(global_model.parameters(), lr=0.01)\n",
        "\n",
        "loss_fn = nn.MSELoss()\n",
        "#mse=sklearn.metrics.mean_squared_error(y_test, pred)\n",
        "#mape=sklearn.metrics.mean_absolute_percentage_error(y_test, pred)\n",
        "#global_model.compile(loss=loss, \n",
        "#                      optimizer=optimizer, \n",
        "#                      metrics=metrics)\n",
        "\n",
        "comms_round = 291\n",
        "\n",
        "aggregate_losses=[]\n",
        "aggregate_losses_train=[]\n",
        "\n",
        "\n",
        "\n",
        "mean_mse=[]\n",
        "\n",
        "import tqdm\n",
        "\n",
        "EPOCHS  = 1\n",
        "\n",
        "\n",
        "loss_ = []\n",
        "\n",
        "        \n",
        "#commence global training loop\n",
        "for comm_round in range(comms_round):\n",
        "            \n",
        "    # get the global model's weights - will serve as the initial weights for all local models\n",
        "    global_weights1 = global_model.lstm.weight_hh_l0.data\n",
        "    global_weights2 = global_model.lstm.weight_ih_l0.data\n",
        "    global_weights3 = global_model.fc1.weight.data\n",
        "    global_weights4 = global_model.fc2.weight.data\n",
        "    #initial list to collect local model weights after scalling\n",
        "    scaled_local_weight_list1 = list()\n",
        "    scaled_local_weight_list2 = list()\n",
        "    scaled_local_weight_list3 = list()\n",
        "    scaled_local_weight_list4 = list()\n",
        "\n",
        "    #randomize client data - using keys\n",
        "    client_names= list(trainX.keys())\n",
        "    #random.shuffle(client_names)\n",
        "    \n",
        "    #loop through each client and create new local model\n",
        "    for client in client_names:\n",
        "        \n",
        "        \n",
        "        \n",
        "        \n",
        "        #set local model weight to the weight of the global model\n",
        "        local_model[client].lstm.weight_hh_l0.data=global_weights1\n",
        "        local_model[client].lstm.weight_ih_l0.data=global_weights2\n",
        "        local_model[client].fc1.weight.data=global_weights3\n",
        "        local_model[client].fc2.weight.data=global_weights4\n",
        "\n",
        "        \n",
        "        #fit local model with client's data\n",
        "        #tqdm.trange(EPOCHS)\n",
        "        for epoch in range(EPOCHS):\n",
        "            optimizer[client].zero_grad()\n",
        "            y_pred = local_model[client](trainX[client])\n",
        "            loss = loss_fn(y_pred, trainY[client])   #loss(input, target)\n",
        "            loss_.append(loss)\n",
        "            loss.backward()\n",
        "            optimizer[client].step()\n",
        "        loss_clients[client].append(loss_)\n",
        "        every_round_loss[client]=loss\n",
        "        loss_=[]\n",
        "\n",
        "        \n",
        "        #scale the model weights and add to list\n",
        "        scaling_factor = weight_scalling_factor(trainX, client)\n",
        "        scaled_weights1 = scale_model_weights(local_model[client].lstm.weight_hh_l0.data, scaling_factor)\n",
        "        scaled_weights2 = scale_model_weights(local_model[client].lstm.weight_ih_l0.data, scaling_factor)\n",
        "        scaled_weights3 = scale_model_weights(local_model[client].fc1.weight.data, scaling_factor)\n",
        "        scaled_weights4 = scale_model_weights(local_model[client].fc2.weight.data, scaling_factor)\n",
        "        scaled_local_weight_list1.append(scaled_weights1)\n",
        "        scaled_local_weight_list2.append(scaled_weights2)\n",
        "        scaled_local_weight_list3.append(scaled_weights3)\n",
        "        scaled_local_weight_list4.append(scaled_weights4)\n",
        "        \n",
        "        #clear session to free memory after each communication round\n",
        "        #K.clear_session()\n",
        "        \n",
        "        \n",
        "    #outliers = detect_outlier(comm_round,loss_clients,prev_loss)\n",
        "    #if comm_round>0:\n",
        "   #  if comm_round%20 == 0:\n",
        "    #      if comm_round == 20:\n",
        "    #        prev_loss=loss_clients['clients_1'][comm_round][0]\n",
        "     #       rounds_list[comm_round]=loss_clients['clients_1'][comm_round][0]\n",
        "     #       #prev_loss = every_round_loss\n",
        "     #       #rounds_list[comm_round]=every_round_loss\n",
        "     #     else:\n",
        "      #      for clients2 in client_names:\n",
        "      #        if loss_clients[clients2][comm_round][0] >= 1.05 * prev_loss[clients2]:\n",
        "      #          outliers.append(clients2)\n",
        "      #          prev_loss[clients2]=loss_clients[clients2][comm_round][0]\n",
        "      #      rounds_list[comm_round]=loss_clients[clients2][comm_round][0]\n",
        "            #prev_loss = every_round_loss\n",
        "            #rounds_list[comm_round]=every_round_loss\n",
        "            \n",
        "    if comm_round>0:\n",
        "        if comm_round%20 == 0:\n",
        "            for clients2 in client_names:\n",
        "                if loss_clients[clients2][comm_round][0] >= 1.3 * loss_clients[clients2][comm_round-20][0]:\n",
        "                    outliers.append(clients2)\n",
        "\n",
        "\n",
        "    #to get the average over all the local model, we simply take the sum of the scaled weights\n",
        "    average_weights1 =sum_scaled_weights(scaled_local_weight_list1)\n",
        "    #sum_scaled_weights(scaled_local_weight_list1)\n",
        "     \n",
        "    average_weights2 = sum_scaled_weights(scaled_local_weight_list2)\n",
        "    average_weights3 = sum_scaled_weights(scaled_local_weight_list3)\n",
        "    average_weights4 = sum_scaled_weights(scaled_local_weight_list4)\n",
        "\n",
        "    #update global model \n",
        "    global_model.lstm.weight_hh_l0.data=average_weights1\n",
        "    global_model.lstm.weight_ih_l0.data=average_weights2\n",
        "    global_model.fc1.weight.data=average_weights3\n",
        "    global_model.fc2.weight.data=average_weights4\n",
        "\n",
        "    #test global model and print out metrics after each communications round\n",
        "    for client in client_names:\n",
        "        #loss, mse = global_model.evaluate(clients_batched_test[client], verbose=2)\n",
        "        pred=global_model(testX[client])\n",
        "        \n",
        "        \n",
        "        #total_mse.append(mse(clients_test[client][1], pred))\n",
        "        total_mse[client].append(loss_fn(pred, testY[client]))   #loss(input, target)\n",
        "    #mean_mse.append(np.mean(total_mse))\n",
        "    #total_mse=[]\n",
        "    agg_pred=global_model(testX_aggregate)\n",
        "    #agg_loss = mse(y_test, pred*len(client_names))\n",
        "    #agg_pred=pred*len(client_names)\n",
        "    agg_loss = loss_fn(agg_pred, testY_aggregate)\n",
        "    #agg_loss1 = sklearn.metrics.mean_squared_error(agg_pred.cpu().data.numpy(), y_test.cpu().data.numpy())\n",
        "    #sklearn.metrics.mean_squared_error(y_test, agg_pred)\n",
        "    aggregate_losses.append(agg_loss)\n",
        "\n",
        "\n",
        "    #loss of training\n",
        "    agg_pred_train=global_model(trainX_aggregate)\n",
        "    #agg_pred_train=pred_train*len(client_names)\n",
        "    agg_loss_train= loss_fn(agg_pred_train,trainY_aggregate)\n",
        "    aggregate_losses_train.append(agg_loss_train)"
      ]
    },
    {
      "cell_type": "code",
      "execution_count": null,
      "metadata": {
        "colab": {
          "base_uri": "https://localhost:8080/"
        },
        "id": "_VYAfdXTpkli",
        "outputId": "bc06bab8-273a-429f-f700-814a91833a21"
      },
      "outputs": [
        {
          "data": {
            "text/plain": [
              "['clients_11', 'clients_5', 'clients_9', 'clients_11', 'clients_9']"
            ]
          },
          "execution_count": 11,
          "metadata": {},
          "output_type": "execute_result"
        }
      ],
      "source": [
        "outliers"
      ]
    },
    {
      "cell_type": "markdown",
      "metadata": {
        "id": "G5eGYXs0-xUP",
        "tags": []
      },
      "source": [
        "#Model Evaluation"
      ]
    },
    {
      "cell_type": "code",
      "execution_count": null,
      "metadata": {
        "id": "6ihrpqOB-vmO",
        "tags": []
      },
      "outputs": [],
      "source": [
        "MSE_of_clients1=[]\n",
        "MSE_of_clients2=[]\n",
        "MAPE_of_clients=[]\n",
        "\n",
        "for client in client_names:\n",
        "  pred_test_clients=global_model(testX[client])\n",
        "  MSE_of_clients1.append(loss_fn(pred_test_clients, testY[client]))\n",
        "  MSE_of_clients2.append(sklearn.metrics.mean_squared_error(testY[client].cpu().data.numpy(), pred_test_clients.cpu().data.numpy()))\n",
        "  MAPE_of_clients.append(sklearn.metrics.mean_absolute_percentage_error(testY[client].cpu().data.numpy(), pred_test_clients.cpu().data.numpy()))\n",
        "\n",
        "\n"
      ]
    },
    {
      "cell_type": "code",
      "execution_count": null,
      "metadata": {
        "id": "33VpoWS5BsFm",
        "outputId": "7cd59b01-4ffd-480e-f1f9-6a4c41457cf6"
      },
      "outputs": [
        {
          "data": {
            "text/plain": [
              "[0.22964513,\n",
              " 0.6292591,\n",
              " 0.68056554,\n",
              " 0.09659948,\n",
              " 0.5325926,\n",
              " 0.48655894,\n",
              " 0.17498751,\n",
              " 0.21131365,\n",
              " 0.032404702,\n",
              " 0.039561912,\n",
              " 0.14659028]"
            ]
          },
          "execution_count": 12,
          "metadata": {},
          "output_type": "execute_result"
        }
      ],
      "source": [
        "MSE_of_clients2"
      ]
    },
    {
      "cell_type": "code",
      "execution_count": null,
      "metadata": {
        "id": "RAcLRk66uPLC"
      },
      "outputs": [],
      "source": [
        "MSE_of_clients_train=[]\n",
        "MAPE_of_clients_train=[]\n",
        "\n",
        "for client in client_names:\n",
        "  pred_train_clients=global_model(trainX[client])\n",
        "  MSE_of_clients_train.append(sklearn.metrics.mean_squared_error(trainY[client].cpu().data.numpy(), pred_train_clients.cpu().data.numpy()))\n",
        "  MAPE_of_clients_train.append(sklearn.metrics.mean_absolute_percentage_error(trainY[client].cpu().data.numpy(), pred_train_clients.cpu().data.numpy()))\n"
      ]
    },
    {
      "cell_type": "code",
      "execution_count": null,
      "metadata": {
        "id": "o_4ogjuZBsFn",
        "outputId": "3746b921-cc21-4917-c328-d3ca6b761ec3"
      },
      "outputs": [
        {
          "data": {
            "text/plain": [
              "[1.0693659,\n",
              " 1.2173918,\n",
              " 0.5997849,\n",
              " 1.0283563,\n",
              " 0.58619684,\n",
              " 0.84881717,\n",
              " 0.69008493,\n",
              " 1.0309201,\n",
              " 3.1417453,\n",
              " 1.4065081,\n",
              " 450890770000000.0]"
            ]
          },
          "execution_count": 14,
          "metadata": {},
          "output_type": "execute_result"
        }
      ],
      "source": [
        "MAPE_of_clients"
      ]
    },
    {
      "cell_type": "code",
      "execution_count": null,
      "metadata": {
        "colab": {
          "base_uri": "https://localhost:8080/"
        },
        "id": "y6UCtXq8hQFL",
        "outputId": "03d2f808-f613-41b3-c389-ada86da04059"
      },
      "outputs": [
        {
          "data": {
            "text/plain": [
              "31657139000000.0"
            ]
          },
          "execution_count": 15,
          "metadata": {},
          "output_type": "execute_result"
        }
      ],
      "source": [
        "np.mean(MAPE_of_clients_train)"
      ]
    },
    {
      "cell_type": "code",
      "execution_count": null,
      "metadata": {
        "colab": {
          "base_uri": "https://localhost:8080/"
        },
        "id": "Sv3CSosD5mOM",
        "outputId": "da84a82b-827b-41f0-d818-bd8d8b034803"
      },
      "outputs": [
        {
          "data": {
            "text/plain": [
              "[0.94052106,\n",
              " 0.79711646,\n",
              " 0.556601,\n",
              " 0.9342044,\n",
              " 0.53362226,\n",
              " 0.8908901,\n",
              " 0.7292252,\n",
              " 1.0064319,\n",
              " 3.2661579,\n",
              " 1.4265146,\n",
              " 348228530000000.0]"
            ]
          },
          "execution_count": 16,
          "metadata": {},
          "output_type": "execute_result"
        }
      ],
      "source": [
        "MAPE_of_clients_train"
      ]
    },
    {
      "cell_type": "code",
      "execution_count": null,
      "metadata": {
        "colab": {
          "base_uri": "https://localhost:8080/",
          "height": 336
        },
        "id": "R3xB4KtmtXEY",
        "outputId": "120f3b84-3517-427b-b8dd-f34a5ec15d9e"
      },
      "outputs": [
        {
          "data": {
            "text/plain": [
              "[<matplotlib.lines.Line2D at 0x22eb6d8afd0>]"
            ]
          },
          "execution_count": 20,
          "metadata": {},
          "output_type": "execute_result"
        },
        {
          "data": {
            "image/png": "[encoded data removed]",
            "text/plain": [
              "<Figure size 432x288 with 1 Axes>"
            ]
          },
          "metadata": {
            "needs_background": "light"
          },
          "output_type": "display_data"
        }
      ],
      "source": [
        "pred_test_clients=global_model(testX['clients_11'])\n",
        "plt.plot(testY['clients_11'].view(len(testY['clients_3'][:])*len(testY['clients_3'][0,:])).cpu().data.numpy())\n",
        "plt.plot(pred_test_clients.view(len(testY['clients_3'][:])*len(testY['clients_3'][0,:])).cpu().data.numpy())\n"
      ]
    },
    {
      "cell_type": "code",
      "execution_count": null,
      "metadata": {
        "id": "NNzsSuGl_-CK"
      },
      "outputs": [],
      "source": [
        "agg_pred_test=global_model(testX_aggregate)\n",
        "\n",
        "agg_loss_test = loss_fn(agg_pred_test, testY_aggregate)\n",
        "\n",
        "agg_pred_train=global_model(trainX_aggregate)\n",
        "\n",
        "agg_loss_train= loss_fn(agg_pred_train,trainY_aggregate)"
      ]
    },
    {
      "cell_type": "code",
      "execution_count": null,
      "metadata": {
        "colab": {
          "base_uri": "https://localhost:8080/"
        },
        "id": "3yM3mWCECoc9",
        "outputId": "f0f0c546-a244-48ce-ed71-fe82386af619"
      },
      "outputs": [
        {
          "name": "stdout",
          "output_type": "stream",
          "text": [
            "121.19993 5.7657814 83.43775 4.1317773\n"
          ]
        }
      ],
      "source": [
        "agg_pred_test_MSE=sklearn.metrics.mean_squared_error(agg_pred_test.cpu().data.numpy(), testY_aggregate.cpu().data.numpy())\n",
        "agg_pred_test_MAPE=sklearn.metrics.mean_absolute_percentage_error(agg_pred_test.cpu().data.numpy(), testY_aggregate.cpu().data.numpy())\n",
        "\n",
        "agg_pred_train_MSE=sklearn.metrics.mean_squared_error(agg_pred_train.cpu().data.numpy(),trainY_aggregate.cpu().data.numpy())\n",
        "agg_pred_train_MAPE=sklearn.metrics.mean_absolute_percentage_error(agg_pred_train.cpu().data.numpy(),trainY_aggregate.cpu().data.numpy())\n",
        "\n",
        "print(agg_pred_test_MSE,agg_pred_test_MAPE,agg_pred_train_MSE,agg_pred_train_MAPE)"
      ]
    },
    {
      "cell_type": "code",
      "execution_count": null,
      "metadata": {
        "id": "yYPzxdNhCCab"
      },
      "outputs": [],
      "source": [
        "agg_pred_test=global_model(testX_aggregate/len(client_names))*len(client_names)\n",
        "\n",
        "agg_loss_test = loss_fn(agg_pred, testY_aggregate)\n",
        "\n",
        "agg_pred_train=global_model(trainX_aggregate/len(client_names))*len(client_names)\n",
        "\n",
        "agg_loss_train= loss_fn(agg_pred_train,trainY_aggregate)"
      ]
    },
    {
      "cell_type": "code",
      "execution_count": null,
      "metadata": {
        "colab": {
          "base_uri": "https://localhost:8080/"
        },
        "id": "STtO0rqHDZsK",
        "outputId": "80f1ae69-5871-4535-dbf4-553c7627164f"
      },
      "outputs": [
        {
          "name": "stdout",
          "output_type": "stream",
          "text": [
            "2.7182982 0.45115072 2.8752367 0.43729493\n"
          ]
        }
      ],
      "source": [
        "agg_pred_test_MSE=sklearn.metrics.mean_squared_error(agg_pred_test.cpu().data.numpy(), testY_aggregate.cpu().data.numpy())\n",
        "agg_pred_test_MAPE=sklearn.metrics.mean_absolute_percentage_error(agg_pred_test.cpu().data.numpy(), testY_aggregate.cpu().data.numpy())\n",
        "\n",
        "agg_pred_train_MSE=sklearn.metrics.mean_squared_error(agg_pred_train.cpu().data.numpy(),trainY_aggregate.cpu().data.numpy())\n",
        "agg_pred_train_MAPE=sklearn.metrics.mean_absolute_percentage_error(agg_pred_train.cpu().data.numpy(),trainY_aggregate.cpu().data.numpy())\n",
        "\n",
        "print(agg_pred_test_MSE,agg_pred_test_MAPE,agg_pred_train_MSE,agg_pred_train_MAPE)"
      ]
    },
    {
      "cell_type": "code",
      "execution_count": null,
      "metadata": {
        "id": "kuAmN-gr6lG1"
      },
      "outputs": [],
      "source": [
        "torch.save(global_model, \"./Data/entire_model_best.pt\")\n",
        "#model = torch.load(\"./Data/entire_model_best.pt\")\n"
      ]
    },
    {
      "cell_type": "code",
      "execution_count": null,
      "metadata": {
        "collapsed": true,
        "id": "ybpteb79BMx5",
        "jupyter": {
          "outputs_hidden": true
        },
        "tags": [],
        "outputId": "3241f4e6-7879-4b2f-c310-1c3a9aa8f7ce"
      },
      "outputs": [
        {
          "data": {
            "text/plain": [
              "[[Parameter containing:\n",
              "  tensor([[-0.3549],\n",
              "          [-1.0507],\n",
              "          [-0.4264],\n",
              "          [-0.4814],\n",
              "          [-0.1807],\n",
              "          [-0.4903],\n",
              "          [ 0.1062],\n",
              "          [-0.4612],\n",
              "          [-0.0357],\n",
              "          [-0.1507],\n",
              "          [-0.3758],\n",
              "          [-0.2407],\n",
              "          [-0.0882],\n",
              "          [-0.4176],\n",
              "          [ 0.0738],\n",
              "          [-0.5474],\n",
              "          [-0.0122],\n",
              "          [-0.3103],\n",
              "          [ 0.6578],\n",
              "          [-0.2446],\n",
              "          [-0.2269],\n",
              "          [-0.0033],\n",
              "          [-0.4660],\n",
              "          [-0.0070],\n",
              "          [-0.6795],\n",
              "          [-0.5705],\n",
              "          [-0.7823],\n",
              "          [ 0.3317],\n",
              "          [-0.7198],\n",
              "          [ 0.0914],\n",
              "          [-0.0857],\n",
              "          [-0.1109],\n",
              "          [-0.1452],\n",
              "          [-0.3726],\n",
              "          [-0.6137],\n",
              "          [-0.3224],\n",
              "          [-0.5113],\n",
              "          [-0.4779],\n",
              "          [ 0.2547],\n",
              "          [ 0.0775],\n",
              "          [-0.1308],\n",
              "          [-0.0955],\n",
              "          [ 0.3420],\n",
              "          [-0.3432],\n",
              "          [-0.1382],\n",
              "          [ 0.1343],\n",
              "          [-0.2558],\n",
              "          [-0.3639],\n",
              "          [-0.0437],\n",
              "          [-0.3414],\n",
              "          [-0.0776],\n",
              "          [-0.1267],\n",
              "          [ 0.1691],\n",
              "          [-0.1136],\n",
              "          [-0.0277],\n",
              "          [-0.1502],\n",
              "          [ 0.0784],\n",
              "          [-0.4037],\n",
              "          [ 0.0615],\n",
              "          [-0.4454],\n",
              "          [-0.3208],\n",
              "          [ 0.0115],\n",
              "          [-0.3949],\n",
              "          [-0.0995],\n",
              "          [-0.1803],\n",
              "          [-0.1409],\n",
              "          [ 0.0511],\n",
              "          [ 0.5291],\n",
              "          [-0.1952],\n",
              "          [-0.4507],\n",
              "          [-0.2057],\n",
              "          [-0.1783],\n",
              "          [-0.5958],\n",
              "          [ 0.0034],\n",
              "          [-0.1058],\n",
              "          [ 0.0422],\n",
              "          [ 0.1808],\n",
              "          [-0.0045],\n",
              "          [-0.4494],\n",
              "          [-0.0735],\n",
              "          [-0.0560],\n",
              "          [-0.2940],\n",
              "          [ 0.0545],\n",
              "          [-0.3095],\n",
              "          [-0.2545],\n",
              "          [ 0.0146],\n",
              "          [-0.0392],\n",
              "          [ 0.2635],\n",
              "          [-0.4271],\n",
              "          [-0.5170],\n",
              "          [-0.1257],\n",
              "          [ 0.3095],\n",
              "          [-0.2800],\n",
              "          [ 0.6021],\n",
              "          [-0.0896],\n",
              "          [-0.3237],\n",
              "          [-0.1507],\n",
              "          [-0.3180],\n",
              "          [-0.3836],\n",
              "          [ 0.0911],\n",
              "          [-0.3091],\n",
              "          [ 0.0990],\n",
              "          [-0.3221],\n",
              "          [-0.2026],\n",
              "          [-0.2022],\n",
              "          [-0.1903],\n",
              "          [ 0.3977],\n",
              "          [ 0.0400],\n",
              "          [ 0.2937],\n",
              "          [ 0.0459],\n",
              "          [-0.2770],\n",
              "          [-0.0207],\n",
              "          [ 0.6238],\n",
              "          [-0.1581],\n",
              "          [-0.1931],\n",
              "          [-0.0836],\n",
              "          [-0.1814],\n",
              "          [-0.2356],\n",
              "          [ 0.0330],\n",
              "          [-0.2609],\n",
              "          [-0.0316],\n",
              "          [ 0.1804],\n",
              "          [ 0.1165],\n",
              "          [-0.1923],\n",
              "          [-0.2813],\n",
              "          [-0.5807],\n",
              "          [-0.0933],\n",
              "          [-0.4611],\n",
              "          [-0.0640],\n",
              "          [-0.0075],\n",
              "          [ 0.1812],\n",
              "          [-0.2124],\n",
              "          [-0.4987],\n",
              "          [-0.6625],\n",
              "          [-0.4459],\n",
              "          [-0.5368],\n",
              "          [-0.3661],\n",
              "          [-0.8217],\n",
              "          [ 0.1100],\n",
              "          [-0.3806],\n",
              "          [ 0.1341],\n",
              "          [-0.3091],\n",
              "          [-0.4307],\n",
              "          [-0.2044],\n",
              "          [-0.1135],\n",
              "          [-0.4650],\n",
              "          [ 0.1912],\n",
              "          [-0.5285],\n",
              "          [ 0.1740],\n",
              "          [-0.3411],\n",
              "          [ 0.7184],\n",
              "          [-0.0034],\n",
              "          [-0.1310],\n",
              "          [-0.0432],\n",
              "          [-0.3150],\n",
              "          [ 0.2013],\n",
              "          [-0.4807],\n",
              "          [-0.4222],\n",
              "          [-0.5620],\n",
              "          [ 0.5316],\n",
              "          [-0.5803],\n",
              "          [ 0.1802],\n",
              "          [ 0.1134],\n",
              "          [-0.0014],\n",
              "          [ 0.0742],\n",
              "          [-0.3861],\n",
              "          [-0.6582],\n",
              "          [-0.2798],\n",
              "          [-0.1966],\n",
              "          [-0.1809],\n",
              "          [ 0.1605],\n",
              "          [ 0.0405],\n",
              "          [-0.1302],\n",
              "          [-0.2682],\n",
              "          [ 0.4510],\n",
              "          [-0.1258]], requires_grad=True),\n",
              "  Parameter containing:\n",
              "  tensor([[-0.0212,  0.4171,  0.2153,  ...,  0.1509,  0.5293, -0.0219],\n",
              "          [-0.0300,  0.5195,  0.1428,  ...,  0.3276, -0.0508,  0.2056],\n",
              "          [ 0.1478,  0.4786, -0.1227,  ..., -0.2147, -0.5609,  0.2204],\n",
              "          ...,\n",
              "          [ 0.0550, -0.7607, -0.0266,  ..., -0.0141,  0.1461, -0.3753],\n",
              "          [ 0.2642, -0.0641,  0.0600,  ..., -0.3783, -0.1353, -0.0957],\n",
              "          [ 0.1488,  0.4369,  0.2878,  ...,  0.1279,  0.4209, -0.4394]],\n",
              "         requires_grad=True),\n",
              "  Parameter containing:\n",
              "  tensor([ 1.0119e-01, -1.7833e-01, -1.8515e-01,  3.4600e-02, -1.6036e-01,\n",
              "           1.8680e-02,  5.7190e-02, -2.0039e-01, -2.5184e-01,  2.9252e-02,\n",
              "           2.5194e-02, -1.3493e-01, -4.9989e-02,  1.9966e-02, -7.7122e-03,\n",
              "          -1.2205e-01,  2.5180e-02, -1.3164e-01, -1.4859e-02, -7.9024e-02,\n",
              "          -1.5479e-01, -1.9565e-01, -1.5247e-01, -1.7388e-01,  1.1278e-01,\n",
              "           3.1210e-02, -2.5374e-01,  5.6996e-02, -1.7253e-01, -4.3170e-02,\n",
              "          -2.2101e-01, -1.3356e-01, -2.9671e-02, -1.1064e-01, -1.4780e-01,\n",
              "          -5.6048e-02, -1.1821e-01,  1.0930e-01,  2.9248e-02, -5.9483e-03,\n",
              "           8.7693e-02,  3.5044e-02, -2.3236e-02,  2.9788e-02, -1.9742e-01,\n",
              "          -1.9870e-01,  1.4118e-04,  7.7341e-03,  9.6317e-02, -6.4903e-02,\n",
              "          -1.0879e-01, -1.3994e-01,  1.6319e-02,  5.1315e-02, -1.4514e-01,\n",
              "           6.6046e-02, -6.1174e-02,  2.7568e-02,  1.6459e-02,  2.2581e-02,\n",
              "           2.7830e-02, -8.2135e-03, -1.9463e-02, -3.1644e-02, -8.7531e-02,\n",
              "           1.5470e-02, -2.8803e-02, -5.8080e-02, -4.3323e-02, -6.0220e-02,\n",
              "          -5.2281e-02, -7.2788e-02,  5.6569e-02,  6.2044e-02,  2.2476e-03,\n",
              "          -8.0218e-02,  1.1037e-01,  9.7170e-02, -1.8252e-02,  1.3216e-01,\n",
              "          -1.1071e-01, -1.1103e-02,  7.2372e-02, -8.0146e-03, -9.5164e-02,\n",
              "          -8.2120e-02, -1.6176e-01, -2.4672e-01,  7.9342e-02, -3.7623e-02,\n",
              "           1.2502e-02, -9.2960e-02,  1.2961e-01, -1.9443e-02,  1.1119e-01,\n",
              "           1.1598e-01,  4.9311e-02, -1.2350e-01,  7.8622e-02,  4.8309e-02,\n",
              "          -2.9815e-02,  5.3844e-02, -8.3639e-02,  9.9638e-02,  9.5478e-02,\n",
              "           3.5514e-02,  1.0540e-01, -7.8345e-02, -9.4288e-02, -8.6547e-02,\n",
              "          -7.7381e-02,  1.2435e-01,  3.3451e-02,  1.8238e-03, -1.2912e-01,\n",
              "          -1.0130e-01, -5.1036e-02, -1.2252e-01,  7.6026e-02, -1.1186e-01,\n",
              "          -5.6888e-02,  6.8142e-02,  6.2262e-02, -4.9379e-02, -1.3299e-02,\n",
              "           3.5909e-02,  4.4069e-02, -1.0521e-01, -3.3209e-02,  9.6962e-02,\n",
              "          -1.2057e-01, -9.0211e-02, -1.0346e-01,  5.5747e-02,  2.9125e-02,\n",
              "           3.7022e-02, -4.5440e-02, -1.3166e-01, -7.9530e-02, -9.1000e-02,\n",
              "          -5.4715e-02, -1.6611e-01,  4.4757e-02, -5.6336e-02, -4.0110e-02,\n",
              "          -1.5960e-01, -5.2968e-04, -1.9206e-01,  1.1197e-01,  1.2465e-01,\n",
              "          -1.0076e-01, -2.1057e-01, -7.4857e-02, -1.7540e-01, -1.2944e-01,\n",
              "          -1.2979e-01, -1.6635e-02, -1.5017e-02, -1.9078e-01, -1.4873e-01,\n",
              "           3.1761e-02, -1.4650e-01, -8.3941e-02, -1.0539e-01, -7.4915e-02,\n",
              "          -1.3736e-01, -2.1677e-01,  5.0480e-02, -7.6399e-02,  3.0956e-02,\n",
              "           2.8103e-02, -7.5513e-03, -1.1902e-01, -8.0174e-02, -8.5595e-02,\n",
              "          -2.1465e-01], requires_grad=True),\n",
              "  Parameter containing:\n",
              "  tensor([ 0.0870, -0.0944, -0.1296, -0.1911,  0.0853,  0.1173, -0.0777,  0.0595,\n",
              "          -0.0654, -0.1109,  0.0629, -0.1395,  0.0266, -0.1605,  0.0310, -0.1946,\n",
              "          -0.0492, -0.0806, -0.0395, -0.1628, -0.1397,  0.0637, -0.0451,  0.0176,\n",
              "           0.1023, -0.1951, -0.1938,  0.0051, -0.1767, -0.1311, -0.0773, -0.0493,\n",
              "          -0.0503, -0.0917, -0.0309, -0.0990, -0.1068,  0.1434, -0.1452,  0.0138,\n",
              "          -0.0058, -0.1658, -0.0872, -0.0557,  0.0926, -0.2370, -0.1349,  0.0303,\n",
              "           0.0385, -0.2211,  0.0602, -0.2016, -0.0906, -0.0250,  0.0358, -0.1094,\n",
              "          -0.1490, -0.1416,  0.0336,  0.0500, -0.0663, -0.1048, -0.0306,  0.0326,\n",
              "          -0.2283,  0.0139,  0.0586, -0.0604, -0.2286, -0.2073, -0.1950,  0.0715,\n",
              "          -0.2260, -0.0100, -0.1561, -0.1922,  0.0389, -0.1207, -0.1103, -0.1462,\n",
              "          -0.0782, -0.0549, -0.0014, -0.1492,  0.0165,  0.0333,  0.0677, -0.2196,\n",
              "           0.0940,  0.1003, -0.0321,  0.0860, -0.1321, -0.0205, -0.0948,  0.0624,\n",
              "          -0.1271, -0.0746, -0.0802,  0.0664, -0.0950, -0.0453, -0.0949,  0.0621,\n",
              "          -0.1026, -0.1167, -0.0178,  0.0373,  0.1126,  0.0684,  0.0101, -0.0004,\n",
              "          -0.1037, -0.0768,  0.0989, -0.0412, -0.0192, -0.0189, -0.0361,  0.1054,\n",
              "          -0.0755,  0.0273, -0.0358, -0.1062, -0.0510, -0.1370,  0.0112, -0.0239,\n",
              "          -0.0916, -0.1207,  0.0637,  0.1065, -0.0074, -0.0054, -0.1246, -0.0510,\n",
              "          -0.1692,  0.0648, -0.1939, -0.1348, -0.2154,  0.0527,  0.0326,  0.0259,\n",
              "          -0.0546, -0.1890, -0.0390, -0.0068,  0.1191, -0.1546, -0.0298, -0.0064,\n",
              "          -0.0328,  0.0623,  0.0287, -0.1788,  0.1058, -0.0817, -0.0752,  0.0655,\n",
              "           0.0485, -0.1039, -0.0179, -0.0483,  0.0687,  0.0362,  0.0045, -0.0486,\n",
              "          -0.1636,  0.1613,  0.0646, -0.0907,  0.0889,  0.0167, -0.1785, -0.1091],\n",
              "         requires_grad=True)]]"
            ]
          },
          "execution_count": 25,
          "metadata": {},
          "output_type": "execute_result"
        }
      ],
      "source": [
        "local_model['clients_4'].lstm.all_weights"
      ]
    },
    {
      "cell_type": "code",
      "execution_count": null,
      "metadata": {
        "id": "yGCa-9DQBpOh",
        "tags": []
      },
      "outputs": [],
      "source": [
        "torch.save(local_model, \"./Data/entire_model_best.pt\")\n",
        "#model = torch.load(\"./Data/entire_model_best.pt\")"
      ]
    },
    {
      "cell_type": "markdown",
      "metadata": {
        "id": "Kk-W2tTfx96j"
      },
      "source": [
        "#Extras"
      ]
    },
    {
      "cell_type": "code",
      "execution_count": null,
      "metadata": {
        "colab": {
          "base_uri": "https://localhost:8080/",
          "height": 349
        },
        "id": "nOdTjthE6Wqw",
        "outputId": "8061e692-ba26-4c8d-ba1d-3a0a13e30abf"
      },
      "outputs": [
        {
          "data": {
            "text/plain": [
              "Text(0, 0.5, 'Individual Electricity Load [kWh]')"
            ]
          },
          "execution_count": 27,
          "metadata": {},
          "output_type": "execute_result"
        },
        {
          "data": {
            "image/png": "[encoded data removed]",
            "text/plain": [
              "<Figure size 432x288 with 1 Axes>"
            ]
          },
          "metadata": {
            "needs_background": "light"
          },
          "output_type": "display_data"
        }
      ],
      "source": [
        "y_pred = local_model['clients_1'](trainX['clients_1'])\n",
        "y_pred2 = global_model(trainX['clients_1'])\n",
        "plot1,=plt.plot(y_pred.cpu().data.numpy()[1:72], color='b')\n",
        "plot2,=plt.plot(trainY['clients_1'][1:72].cpu().data.numpy(), color='r')\n",
        "plot3,=plt.plot(y_pred2[1:72].cpu().data.numpy(), color=(0.2, 0.8, 0.2))\n",
        "\n",
        "axes = plt.gca()\n",
        "axes.set_ylim([0,2.6])\n",
        "plt.legend([plot3, plot2,plot1],[\"Federated Forecast\",\"Actual Load\", \"Local Forecast\"], loc=2)\n",
        "\n",
        "\n",
        "plt.xlabel(\"Time [h]\")\n",
        "plt.ylabel(\"Individual Electricity Load [kWh]\")"
      ]
    },
    {
      "cell_type": "markdown",
      "metadata": {
        "id": "88k-5ihVjodi"
      },
      "source": [
        "#Smooth Plots"
      ]
    },
    {
      "cell_type": "code",
      "execution_count": null,
      "metadata": {
        "colab": {
          "base_uri": "https://localhost:8080/",
          "height": 296
        },
        "id": "FkCFxbmWjq-A",
        "outputId": "8d2bbf35-dfeb-4cd6-bf22-2051d6355f95"
      },
      "outputs": [
        {
          "data": {
            "text/plain": [
              "Text(0, 0.5, 'Aggregate Electricity Load [kWh]')"
            ]
          },
          "execution_count": 28,
          "metadata": {},
          "output_type": "execute_result"
        },
        {
          "data": {
            "image/png": "[encoded data removed]",
            "text/plain": [
              "<Figure size 432x288 with 1 Axes>"
            ]
          },
          "metadata": {
            "needs_background": "light"
          },
          "output_type": "display_data"
        }
      ],
      "source": [
        "from scipy.interpolate import make_interp_spline\n",
        "\n",
        "x = np.arange(1,72)\n",
        "X_Y_Spline1 = make_interp_spline(x, trainY['clients_1'][1:72].cpu().data.numpy())\n",
        "\n",
        "X_Y_Spline2 = make_interp_spline(x, y_pred.cpu().data.numpy()[1:72])\n",
        "\n",
        "#X_Y_Spline3 = make_interp_spline(x, pred_central)\n",
        "\n",
        "#X_Y_Spline4 = make_interp_spline(x, total_pred)\n",
        "\n",
        "X_ = np.linspace(1, 72, 1440)\n",
        "\n",
        "y_train_=X_Y_Spline1(X_)\n",
        "\n",
        "pred_=X_Y_Spline2(X_)\n",
        "\n",
        "#pred_central_=X_Y_Spline3(X_)\n",
        "\n",
        "\n",
        "#total_pred_=X_Y_Spline4(X_)\n",
        "\n",
        "\n",
        "plot1, =plt.plot(y_train_, color='r', label='Actual Load')\n",
        "plot2, =plt.plot(pred_, color='b', label='Federated Forecast')\n",
        "#plot3, =plt.plot(pred_central_, color=(0.2, 0.8, 0.2), label='Centralized Forecast')\n",
        "#plot4, =plt.plot(total_pred_, color=(0.8, 0, 1), label='Individual Forecast')\n",
        "\n",
        "axes = plt.gca()\n",
        "#axes.set_ylim([1,18])\n",
        "\n",
        "plt.xticks([0,80, 160, 240, 320, 400, 480, 560, 640, 720, 800, 880, 960, 1040, 1120, 1200, 1280, 1360, 1440],\n",
        "           ['0','4','8','12','16','20', '24', '28', '32', '36', '40', '44', '48', '52', '56', '60', '64', '68', '72'] )\n",
        "\n",
        "\n",
        "plt.legend([plot1,plot2],[\"Actual Load\", \"Federated Forecast\"])\n",
        "\n",
        "plt.xlabel(\"Time [h]\")\n",
        "plt.ylabel(\"Aggregate Electricity Load [kWh]\")"
      ]
    },
    {
      "cell_type": "markdown",
      "metadata": {
        "id": "KtQFYrc1DFEA"
      },
      "source": [
        "#Individual Forecast"
      ]
    },
    {
      "cell_type": "code",
      "execution_count": null,
      "metadata": {
        "id": "74f-0lFBJgxC"
      },
      "outputs": [],
      "source": [
        "class LSTM2(nn.Module):\n",
        "\n",
        "    def __init__(self, num_classes, input_size, hidden_size1, hidden_size2, num_layers):\n",
        "        super(LSTM2, self).__init__()\n",
        "        \n",
        "        self.num_classes = num_classes\n",
        "        self.num_layers = num_layers\n",
        "        self.input_size = input_size\n",
        "        self.hidden_size1 = hidden_size1\n",
        "        self.hidden_size2 = hidden_size2\n",
        "        self.seq_length = seq_length\n",
        "        \n",
        "        self.lstm = nn.LSTM(input_size=input_size, hidden_size=hidden_size1,\n",
        "                            num_layers=num_layers, batch_first=True)\n",
        "        \n",
        "        self.fc1 = nn.Linear(hidden_size1, hidden_size2)\n",
        "        self.fc2 = nn.Linear(hidden_size2, num_classes)\n",
        "\n",
        "    def forward(self, x):\n",
        "        h_0 = Variable(torch.zeros(\n",
        "            self.num_layers, x.size(0), self.hidden_size1)).to(device)\n",
        "        \n",
        "        c_0 = Variable(torch.zeros(\n",
        "            self.num_layers, x.size(0), self.hidden_size1)).to(device)\n",
        "        \n",
        "        # Propagate input through LSTM\n",
        "        out, _ = self.lstm(x, (h_0, c_0))\n",
        "        out = out[:, -1, :]\n",
        "        #h_out = h_out.view(-1, self.hidden_size1)\n",
        "        \n",
        "        out = self.fc1(out)\n",
        "        out = self.fc2(out)\n",
        "        out = torch.clip(out, 0)\n",
        "        \n",
        "        return out"
      ]
    },
    {
      "cell_type": "code",
      "execution_count": null,
      "metadata": {
        "id": "4RNKbjt8mXGR"
      },
      "outputs": [],
      "source": [
        "input_size = 1\n",
        "hidden_size1 = 44\n",
        "hidden_size2 = 127\n",
        "num_layers = 1\n",
        "\n",
        "num_classes = 1\n",
        "\n",
        "\n",
        "\n",
        "local_model2 = dict()\n",
        "optimizer2=dict()\n",
        "\n",
        "for client in client_names:\n",
        "    local_model2[client]=LSTM2(num_classes, input_size, hidden_size1, hidden_size2, num_layers).to(device)\n",
        "    optimizer2[client]= torch.optim.Adam(local_model2[client].parameters(), lr=0.01)\n",
        "\n",
        "\n",
        "\n",
        "loss_fn = nn.MSELoss()\n",
        "\n",
        "\n",
        "EPOCHS  = 148\n",
        "\n",
        "\n",
        "loss_2 = []\n",
        "loss_clients2=dict()\n",
        "        \n",
        "\n",
        "\n",
        "#randomize client data - using keys\n",
        "client_names= list(trainX.keys())\n",
        "#random.shuffle(client_names)\n",
        "    \n",
        "#loop through each client and create new local model\n",
        "for client in client_names:\n",
        "\n",
        "  #fit local model with client's data\n",
        "  #tqdm.trange(EPOCHS)\n",
        "  for epoch in range(EPOCHS):\n",
        "    optimizer2[client].zero_grad()\n",
        "    y_pred = local_model2[client](trainX[client])\n",
        "    loss = loss_fn(y_pred, trainY[client])   #loss(input, target)\n",
        "    loss_2.append(loss)\n",
        "    loss.backward()\n",
        "    optimizer2[client].step()\n",
        "  loss_clients2[client]=loss_2\n",
        "  loss_2=[]\n",
        "         "
      ]
    },
    {
      "cell_type": "code",
      "execution_count": null,
      "metadata": {
        "id": "31IbQU1oFBqu"
      },
      "outputs": [],
      "source": [
        "\n",
        "MSE_of_clients_individual_test=[]\n",
        "MAPE_of_clients_individual_test=[]\n",
        "\n",
        "for client in client_names:\n",
        "  pred_test_clients_i=local_model2[client](testX[client])\n",
        "  MSE_of_clients_individual_test.append(sklearn.metrics.mean_squared_error(testY[client].cpu().data.numpy(), pred_test_clients_i.cpu().data.numpy()))\n",
        "  MAPE_of_clients_individual_test.append(sklearn.metrics.mean_absolute_percentage_error(testY[client].cpu().data.numpy(), pred_test_clients_i.cpu().data.numpy()))\n"
      ]
    },
    {
      "cell_type": "code",
      "execution_count": null,
      "metadata": {
        "colab": {
          "base_uri": "https://localhost:8080/"
        },
        "id": "ob9tOcpwjynW",
        "outputId": "c32a7218-92af-45c4-dd59-aeecbfb4e05d"
      },
      "outputs": [
        {
          "data": {
            "text/plain": [
              "0.47462937"
            ]
          },
          "execution_count": 33,
          "metadata": {},
          "output_type": "execute_result"
        }
      ],
      "source": [
        "np.mean(np.sqrt(MSE_of_clients_individual_test))"
      ]
    },
    {
      "cell_type": "code",
      "execution_count": null,
      "metadata": {
        "colab": {
          "base_uri": "https://localhost:8080/"
        },
        "id": "q_ljauYmkGnk",
        "outputId": "39e07a0d-5f83-43f4-c280-d52fd3a39684"
      },
      "outputs": [
        {
          "data": {
            "text/plain": [
              "0.6423904"
            ]
          },
          "execution_count": 34,
          "metadata": {},
          "output_type": "execute_result"
        }
      ],
      "source": [
        "np.mean(MAPE_of_clients_individual_test)"
      ]
    },
    {
      "cell_type": "code",
      "execution_count": null,
      "metadata": {
        "id": "Uugrdx3tHqHg"
      },
      "outputs": [],
      "source": [
        "\n",
        "MSE_of_clients_individual_train=[]\n",
        "MAPE_of_clients_individual_train=[]\n",
        "\n",
        "for client in client_names:\n",
        "  pred_train_clients_i=local_model2[client](trainX[client])\n",
        "  MSE_of_clients_individual_train.append(sklearn.metrics.mean_squared_error(trainY[client].cpu().data.numpy(), pred_train_clients_i.cpu().data.numpy()))\n",
        "  MAPE_of_clients_individual_train.append(sklearn.metrics.mean_absolute_percentage_error(trainY[client].cpu().data.numpy(), pred_train_clients_i.cpu().data.numpy()))\n"
      ]
    },
    {
      "cell_type": "code",
      "execution_count": null,
      "metadata": {
        "colab": {
          "base_uri": "https://localhost:8080/"
        },
        "id": "2z5V91VekXDr",
        "outputId": "247b1763-f207-4919-eeda-1d066ba80360"
      },
      "outputs": [
        {
          "data": {
            "text/plain": [
              "0.63898546"
            ]
          },
          "execution_count": 36,
          "metadata": {},
          "output_type": "execute_result"
        }
      ],
      "source": [
        "np.mean(MAPE_of_clients_individual_train)"
      ]
    },
    {
      "cell_type": "code",
      "execution_count": null,
      "metadata": {
        "colab": {
          "base_uri": "https://localhost:8080/"
        },
        "id": "qBMppKXWIOrD",
        "outputId": "4fed7a5d-6d26-4757-942d-0b312801eb3b"
      },
      "outputs": [
        {
          "data": {
            "text/plain": [
              "[0.22945131,\n",
              " 0.62408215,\n",
              " 0.15758026,\n",
              " 0.035081454,\n",
              " 0.09874,\n",
              " 0.97977424,\n",
              " 0.25203735,\n",
              " 0.06585185]"
            ]
          },
          "execution_count": 37,
          "metadata": {},
          "output_type": "execute_result"
        }
      ],
      "source": [
        "MSE_of_clients_individual_train"
      ]
    },
    {
      "cell_type": "code",
      "execution_count": null,
      "metadata": {
        "colab": {
          "base_uri": "https://localhost:8080/"
        },
        "id": "MKpiKIyGIQ7o",
        "outputId": "b6e8acff-830d-4189-b3ac-265efb1e2068"
      },
      "outputs": [
        {
          "data": {
            "text/plain": [
              "[1.0, 1.0, 0.21778788, 0.3592518, 0.21471246, 1.0, 1.0, 0.32013124]"
            ]
          },
          "execution_count": 38,
          "metadata": {},
          "output_type": "execute_result"
        }
      ],
      "source": [
        "MAPE_of_clients_individual_train"
      ]
    },
    {
      "cell_type": "code",
      "execution_count": null,
      "metadata": {
        "colab": {
          "base_uri": "https://localhost:8080/",
          "height": 281
        },
        "id": "uFlrwXYeGWql",
        "outputId": "99266dc8-f285-43f4-ff33-b3e4fa6fcd12"
      },
      "outputs": [
        {
          "data": {
            "text/plain": [
              "[<matplotlib.lines.Line2D at 0x25298cf76d0>]"
            ]
          },
          "execution_count": 40,
          "metadata": {},
          "output_type": "execute_result"
        },
        {
          "data": {
            "image/png": "[encoded data removed]",
            "text/plain": [
              "<Figure size 432x288 with 1 Axes>"
            ]
          },
          "metadata": {
            "needs_background": "light"
          },
          "output_type": "display_data"
        }
      ],
      "source": [
        "plt.plot(local_model2['clients_1'](testX['clients_1']).cpu().data.numpy())\n",
        "plt.plot(testY['clients_1'].cpu().data.numpy())"
      ]
    },
    {
      "cell_type": "code",
      "execution_count": null,
      "metadata": {
        "colab": {
          "base_uri": "https://localhost:8080/"
        },
        "id": "_yXRcGECF2FP",
        "outputId": "9cd776e8-a33e-4026-ba5a-bdd22dbeefdb"
      },
      "outputs": [
        {
          "data": {
            "text/plain": [
              "[1.0, 1.0, 0.27189866, 0.35054964, 0.24951294, 1.0, 1.0, 0.26716173]"
            ]
          },
          "execution_count": 41,
          "metadata": {},
          "output_type": "execute_result"
        }
      ],
      "source": [
        "MAPE_of_clients_individual_test"
      ]
    },
    {
      "cell_type": "code",
      "execution_count": null,
      "metadata": {
        "colab": {
          "base_uri": "https://localhost:8080/"
        },
        "id": "wCKUlcCZFlEO",
        "outputId": "98bf3114-192e-42fa-c31e-b80126d766d3"
      },
      "outputs": [
        {
          "data": {
            "text/plain": [
              "[0.29757303,\n",
              " 0.6412734,\n",
              " 0.17643565,\n",
              " 0.02099794,\n",
              " 0.09857034,\n",
              " 0.7309843,\n",
              " 0.26503623,\n",
              " 0.040818553]"
            ]
          },
          "execution_count": 42,
          "metadata": {},
          "output_type": "execute_result"
        }
      ],
      "source": [
        "MSE_of_clients_individual_test"
      ]
    },
    {
      "cell_type": "code",
      "execution_count": null,
      "metadata": {
        "id": "wQzHmnNH_lv3"
      },
      "outputs": [],
      "source": [
        "for client in client_names:\n",
        "  torch.save(local_model2[client], \"./Data/\"+client+\".pt\")\n",
        "  #model = torch.load(\"./Data/entire_model_best.pt\")"
      ]
    },
    {
      "cell_type": "markdown",
      "metadata": {
        "id": "RU4EwcxcGH4w"
      },
      "source": [
        "checking performance for aggregate demand prediction"
      ]
    },
    {
      "cell_type": "code",
      "execution_count": null,
      "metadata": {
        "id": "0no7zTsCGT9o"
      },
      "outputs": [],
      "source": [
        "\n",
        "agg_forecast=0\n",
        "\n",
        "for client in client_names:\n",
        "  pred_test_clients_i=local_model2[client](testX[client]).cpu().data.numpy()\n",
        "  agg_forecast=agg_forecast+pred_test_clients_i\n",
        "\n",
        "MSE_aggreagte_individual_test=sklearn.metrics.mean_squared_error(testY_aggregate.cpu().data.numpy(), agg_forecast)\n",
        "MAPE_aggregate_individual_test=sklearn.metrics.mean_absolute_percentage_error(testY_aggregate.cpu().data.numpy(), agg_forecast)\n"
      ]
    },
    {
      "cell_type": "code",
      "execution_count": null,
      "metadata": {
        "colab": {
          "base_uri": "https://localhost:8080/",
          "height": 281
        },
        "id": "c-B0B_3KIQ80",
        "outputId": "f7a543ae-a448-4795-d0b4-96ca9e32c25e"
      },
      "outputs": [
        {
          "data": {
            "text/plain": [
              "[<matplotlib.lines.Line2D at 0x25298d5a9a0>]"
            ]
          },
          "execution_count": 45,
          "metadata": {},
          "output_type": "execute_result"
        },
        {
          "data": {
            "image/png": "[encoded data removed]",
            "text/plain": [
              "<Figure size 432x288 with 1 Axes>"
            ]
          },
          "metadata": {
            "needs_background": "light"
          },
          "output_type": "display_data"
        }
      ],
      "source": [
        "plt.plot(testY_aggregate.cpu().data.numpy())\n",
        "plt.plot(agg_forecast)\n"
      ]
    },
    {
      "cell_type": "code",
      "execution_count": null,
      "metadata": {
        "colab": {
          "base_uri": "https://localhost:8080/"
        },
        "id": "R8I13uWzG7hC",
        "outputId": "b439e626-8968-423d-8f41-5b2e2f4f76be"
      },
      "outputs": [
        {
          "data": {
            "text/plain": [
              "5.597774"
            ]
          },
          "execution_count": 46,
          "metadata": {},
          "output_type": "execute_result"
        }
      ],
      "source": [
        "MSE_aggreagte_individual_test"
      ]
    },
    {
      "cell_type": "code",
      "execution_count": null,
      "metadata": {
        "colab": {
          "base_uri": "https://localhost:8080/"
        },
        "id": "7w9CrnVPk_cc",
        "outputId": "81c8c7a4-e089-44fb-89f3-8af77ea33fa8"
      },
      "outputs": [
        {
          "data": {
            "text/plain": [
              "2.3659616"
            ]
          },
          "execution_count": 47,
          "metadata": {},
          "output_type": "execute_result"
        }
      ],
      "source": [
        "np.sqrt(MSE_aggreagte_individual_test)"
      ]
    },
    {
      "cell_type": "code",
      "execution_count": null,
      "metadata": {
        "colab": {
          "base_uri": "https://localhost:8080/"
        },
        "id": "4O6kRUbQINa1",
        "outputId": "8f8da5f4-d8fc-411a-f7bc-f9e9841c3c39"
      },
      "outputs": [
        {
          "data": {
            "text/plain": [
              "0.4112947"
            ]
          },
          "execution_count": 48,
          "metadata": {},
          "output_type": "execute_result"
        }
      ],
      "source": [
        "MAPE_aggregate_individual_test"
      ]
    },
    {
      "cell_type": "code",
      "execution_count": null,
      "metadata": {
        "id": "9GigtYExIg_v"
      },
      "outputs": [],
      "source": [
        "\n",
        "agg_forecast_train=0\n",
        "\n",
        "for client in client_names:\n",
        "  pred_train_clients_i=local_model2[client](trainX[client]).cpu().data.numpy()\n",
        "  agg_forecast_train=agg_forecast_train+pred_train_clients_i\n",
        "\n",
        "MSE_aggreagte_individual_train=sklearn.metrics.mean_squared_error(trainY_aggregate.cpu().data.numpy(), agg_forecast_train)\n",
        "MAPE_aggregate_individual_train=sklearn.metrics.mean_absolute_percentage_error(trainY_aggregate.cpu().data.numpy(), agg_forecast_train)\n"
      ]
    },
    {
      "cell_type": "code",
      "execution_count": null,
      "metadata": {
        "colab": {
          "base_uri": "https://localhost:8080/"
        },
        "id": "RiEC1_REJVcP",
        "outputId": "1d3cbf23-e956-4b4b-ffc2-0a68aff22fca"
      },
      "outputs": [
        {
          "data": {
            "text/plain": [
              "6.104782"
            ]
          },
          "execution_count": 50,
          "metadata": {},
          "output_type": "execute_result"
        }
      ],
      "source": [
        "MSE_aggreagte_individual_train"
      ]
    },
    {
      "cell_type": "code",
      "execution_count": null,
      "metadata": {
        "colab": {
          "base_uri": "https://localhost:8080/"
        },
        "id": "o2AvRHxQlpy0",
        "outputId": "ebbfe12c-b42e-49f5-91dd-673fec0cb81e"
      },
      "outputs": [
        {
          "data": {
            "text/plain": [
              "2.4707856"
            ]
          },
          "execution_count": 51,
          "metadata": {},
          "output_type": "execute_result"
        }
      ],
      "source": [
        "np.sqrt(MSE_aggreagte_individual_train)"
      ]
    },
    {
      "cell_type": "code",
      "execution_count": null,
      "metadata": {
        "colab": {
          "base_uri": "https://localhost:8080/"
        },
        "id": "icjSa4YXJXwm",
        "outputId": "3cc7aa80-0fdf-4f7a-e2fd-494fcf117ec0"
      },
      "outputs": [
        {
          "data": {
            "text/plain": [
              "0.42208767"
            ]
          },
          "execution_count": 52,
          "metadata": {},
          "output_type": "execute_result"
        }
      ],
      "source": [
        "MAPE_aggregate_individual_train"
      ]
    },
    {
      "cell_type": "markdown",
      "metadata": {
        "id": "xa9gT2WCfIBR"
      },
      "source": [
        "#Centralized Model"
      ]
    },
    {
      "cell_type": "code",
      "execution_count": null,
      "metadata": {
        "id": "iv2AJt8HfOhk"
      },
      "outputs": [],
      "source": [
        "\n",
        "input_size = 1\n",
        "hidden_size1 = 44\n",
        "hidden_size2 = 127\n",
        "num_layers = 1\n",
        "\n",
        "num_classes = 1\n",
        "\n",
        "\n",
        "\n",
        "\n",
        "central_model=LSTM2(num_classes, input_size, hidden_size1, hidden_size2, num_layers).to(device)\n",
        "optimizer3= torch.optim.Adam(central_model.parameters(), lr=0.01)\n",
        "\n",
        "\n",
        "loss_fn = nn.MSELoss()\n",
        "\n",
        "\n",
        "\n",
        "EPOCHS  = 148\n",
        "\n",
        "\n",
        "\n",
        "\n",
        "\n",
        "    \n",
        "#loop through each client and create new local model\n",
        "\n",
        "\n",
        "#fit local model with client's data\n",
        "#tqdm.trange(EPOCHS)\n",
        "for epoch in range(EPOCHS):\n",
        "  optimizer3.zero_grad()\n",
        "  y_pred = central_model(trainX_aggregate)\n",
        "  loss = loss_fn(y_pred, trainY_aggregate)   #loss(input, target)\n",
        "  loss.backward()\n",
        "  optimizer3.step()\n",
        "\n",
        "         "
      ]
    },
    {
      "cell_type": "code",
      "execution_count": null,
      "metadata": {
        "colab": {
          "base_uri": "https://localhost:8080/"
        },
        "id": "mfd7_tAwhQ0A",
        "outputId": "45f8b688-4956-470d-bd36-f96e6077d041"
      },
      "outputs": [
        {
          "name": "stdout",
          "output_type": "stream",
          "text": [
            "21.787102 1.988071e+16\n"
          ]
        }
      ],
      "source": [
        "central_pred=central_model(testX_aggregate)\n",
        "\n",
        "MSE_central_test=sklearn.metrics.mean_squared_error(central_pred.cpu().data.numpy(), testY_aggregate.cpu().data.numpy())\n",
        "\n",
        "MAPE_central_test = sklearn.metrics.mean_absolute_percentage_error(central_pred.cpu().data.numpy(), testY_aggregate.cpu().data.numpy())\n",
        "\n",
        "print(MSE_central_test, MAPE_central_test)"
      ]
    },
    {
      "cell_type": "code",
      "execution_count": null,
      "metadata": {
        "id": "ndhG0EeoJy_B"
      },
      "outputs": [],
      "source": [
        "torch.save(central_model, \"./Data/central_model_best.pt\")"
      ]
    },
    {
      "cell_type": "code",
      "execution_count": null,
      "metadata": {
        "colab": {
          "base_uri": "https://localhost:8080/"
        },
        "id": "idFqNCc7KK8f",
        "outputId": "9e274324-f944-4a7e-9ad0-f8b5bf3d1e6a"
      },
      "outputs": [
        {
          "data": {
            "text/plain": [
              "4.6676655"
            ]
          },
          "execution_count": 56,
          "metadata": {},
          "output_type": "execute_result"
        }
      ],
      "source": [
        "np.sqrt(MSE_central_test)"
      ]
    },
    {
      "cell_type": "code",
      "execution_count": null,
      "metadata": {
        "colab": {
          "base_uri": "https://localhost:8080/"
        },
        "id": "kABA-OGpmvfC",
        "outputId": "fc703a57-e751-4e44-ea3c-d73223752ac9"
      },
      "outputs": [
        {
          "name": "stdout",
          "output_type": "stream",
          "text": [
            "24.283705 2.1191092e+16\n"
          ]
        }
      ],
      "source": [
        "central_pred=central_model(trainX_aggregate)\n",
        "\n",
        "MSE_central_train=sklearn.metrics.mean_squared_error(central_pred.cpu().data.numpy(), trainY_aggregate.cpu().data.numpy())\n",
        "\n",
        "MAPE_central_train = sklearn.metrics.mean_absolute_percentage_error(central_pred.cpu().data.numpy(), trainY_aggregate.cpu().data.numpy())\n",
        "\n",
        "print(MSE_central_train, MAPE_central_train)"
      ]
    },
    {
      "cell_type": "code",
      "execution_count": null,
      "metadata": {
        "colab": {
          "base_uri": "https://localhost:8080/"
        },
        "id": "FgzNMyqGmzHa",
        "outputId": "3543948d-538c-4738-a68d-5d09e5ff3696"
      },
      "outputs": [
        {
          "data": {
            "text/plain": [
              "4.92785"
            ]
          },
          "execution_count": 58,
          "metadata": {},
          "output_type": "execute_result"
        }
      ],
      "source": [
        "np.sqrt(MSE_central_train)"
      ]
    },
    {
      "cell_type": "code",
      "execution_count": null,
      "metadata": {
        "id": "Bz38p75znAqg"
      },
      "outputs": [],
      "source": [
        "\n",
        "MSE_central_test_individual=[]\n",
        "MAPE_central_test_individual=[]\n",
        "\n",
        "for client in client_names:\n",
        "  pred_test_clients_i=central_model(testX[client])\n",
        "  MSE_central_test_individual.append(sklearn.metrics.mean_squared_error(testY[client].cpu().data.numpy(), pred_test_clients_i.cpu().data.numpy()))\n",
        "  MAPE_central_test_individual.append(sklearn.metrics.mean_absolute_percentage_error(testY[client].cpu().data.numpy(), pred_test_clients_i.cpu().data.numpy()))\n"
      ]
    },
    {
      "cell_type": "code",
      "execution_count": null,
      "metadata": {
        "colab": {
          "base_uri": "https://localhost:8080/"
        },
        "id": "m9X4lSupnCf0",
        "outputId": "028d6363-041e-42d7-98f7-04ec140defd4"
      },
      "outputs": [
        {
          "data": {
            "text/plain": [
              "0.6745478"
            ]
          },
          "execution_count": 60,
          "metadata": {},
          "output_type": "execute_result"
        }
      ],
      "source": [
        "np.mean(np.sqrt(MSE_central_test_individual))"
      ]
    },
    {
      "cell_type": "code",
      "execution_count": null,
      "metadata": {
        "colab": {
          "base_uri": "https://localhost:8080/"
        },
        "id": "AtAGFgEMnXeX",
        "outputId": "f9f84dfd-c379-4a23-956f-67e6e677fd35"
      },
      "outputs": [
        {
          "data": {
            "text/plain": [
              "0.9562794"
            ]
          },
          "execution_count": 61,
          "metadata": {},
          "output_type": "execute_result"
        }
      ],
      "source": [
        "np.mean(MAPE_central_test_individual)"
      ]
    },
    {
      "cell_type": "code",
      "execution_count": null,
      "metadata": {
        "id": "sBc5Yo04nnVv"
      },
      "outputs": [],
      "source": [
        "\n",
        "MSE_central_train_individual=[]\n",
        "MAPE_central_train_individual=[]\n",
        "\n",
        "for client in client_names:\n",
        "  pred_test_clients_i=central_model(trainX[client])\n",
        "  MSE_central_train_individual.append(sklearn.metrics.mean_squared_error(trainY[client].cpu().data.numpy(), pred_test_clients_i.cpu().data.numpy()))\n",
        "  MAPE_central_train_individual.append(sklearn.metrics.mean_absolute_percentage_error(trainY[client].cpu().data.numpy(), pred_test_clients_i.cpu().data.numpy()))\n"
      ]
    },
    {
      "cell_type": "code",
      "execution_count": null,
      "metadata": {
        "colab": {
          "base_uri": "https://localhost:8080/"
        },
        "id": "4aHSetZJnp6k",
        "outputId": "7e4f166f-b0a8-412d-b6f7-296653a220ff"
      },
      "outputs": [
        {
          "data": {
            "text/plain": [
              "0.96068823"
            ]
          },
          "execution_count": 63,
          "metadata": {},
          "output_type": "execute_result"
        }
      ],
      "source": [
        "np.mean(MAPE_central_train_individual)"
      ]
    },
    {
      "cell_type": "code",
      "execution_count": null,
      "metadata": {
        "id": "zfIf7vwoBsGN"
      },
      "outputs": [],
      "source": []
    }
  ],
  "metadata": {
    "accelerator": "GPU",
    "colab": {
      "provenance": []
    },
    "kernelspec": {
      "display_name": "Python 3",
      "language": "python",
      "name": "python3"
    },
    "language_info": {
      "codemirror_mode": {
        "name": "ipython",
        "version": 3
      },
      "file_extension": ".py",
      "mimetype": "text/x-python",
      "name": "python",
      "nbconvert_exporter": "python",
      "pygments_lexer": "ipython3",
      "version": "3.8.8"
    }
  },
  "nbformat": 4,
  "nbformat_minor": 0
}